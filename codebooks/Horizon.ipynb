{
 "cells": [
  {
   "cell_type": "code",
   "execution_count": null,
   "metadata": {},
   "outputs": [],
   "source": [
    "import pyvista as pv\n",
    "import numpy as np\n",
    "import pandas as pd\n",
    "import matplotlib.pyplot as plt\n",
    "import os\n",
    "\n",
    "PATH = '/Volumes/GoogleDrive/My Drive/Segyio and PyVista'\n",
    "\n",
    "pv.rcParams['use_panel'] = False"
   ]
  },
  {
   "cell_type": "code",
   "execution_count": null,
   "metadata": {},
   "outputs": [],
   "source": [
    "# Load the Horizons:\n",
    "df = pd.read_table(os.path.join(PATH, '3DHorizons.xyz'), delim_whitespace=True)\n",
    "df.head()"
   ]
  },
  {
   "cell_type": "code",
   "execution_count": null,
   "metadata": {},
   "outputs": [],
   "source": [
    "# This is a bit more complicated than needed...\n",
    "# This dataset has a lot if invalid values so I mask them\n",
    "\n",
    "invalid_values = [-999.99, ]\n",
    "\n",
    "def mask_arrays(values):\n",
    "    if not np.issubdtype(values.dtype, np.number):\n",
    "        return values\n",
    "    values = values.copy()\n",
    "    for val in invalid_values:\n",
    "        nans = values == val\n",
    "        if np.any(nans):\n",
    "            # values = np.ma.masked_where(nans, values)\n",
    "            values[nans] = np.nan\n",
    "    return values\n",
    "        \n",
    "\n",
    "# Can't have NaNs in spatial refernce\n",
    "# Since depth has invalid values, use zeros\n",
    "spatial_ref = ['X', 'Y']\n",
    "points = np.c_[df[spatial_ref].values, np.zeros(len(df))]\n",
    "\n",
    "horizon = pv.PolyData(points)\n",
    "for name in df.keys():\n",
    "    if name in spatial_ref:\n",
    "        continue\n",
    "    values = mask_arrays(df[name].values)\n",
    "    if np.issubdtype(values.dtype, np.number) and np.all(np.isnan(values)):\n",
    "        print('Array {} is entirely NaN. Skipping...'.format(name))\n",
    "        continue\n",
    "    horizon[name] = values\n",
    "horizon"
   ]
  },
  {
   "cell_type": "code",
   "execution_count": null,
   "metadata": {},
   "outputs": [],
   "source": [
    "horizon.plot(scalars='Amplitude', clim=[-1, 3])"
   ]
  },
  {
   "cell_type": "code",
   "execution_count": null,
   "metadata": {},
   "outputs": [],
   "source": [
    "cats, hmapping = np.unique(horizon['Horizon'], return_inverse=True)\n",
    "horizon['Horizon-cats'] = hmapping\n",
    "\n",
    "# Note: https://github.com/pyvista/pyvista/issues/298\n",
    "horizon.plot(scalars='Horizon-cats', categories=True)"
   ]
  },
  {
   "cell_type": "code",
   "execution_count": null,
   "metadata": {},
   "outputs": [],
   "source": []
  }
 ],
 "metadata": {
  "kernelspec": {
   "display_name": "Python [conda env:dev]",
   "language": "python",
   "name": "dev"
  },
  "language_info": {
   "codemirror_mode": {
    "name": "ipython",
    "version": 3
   },
   "file_extension": ".py",
   "mimetype": "text/x-python",
   "name": "python",
   "nbconvert_exporter": "python",
   "pygments_lexer": "ipython3",
   "version": "3.7.3"
  }
 },
 "nbformat": 4,
 "nbformat_minor": 2
}
