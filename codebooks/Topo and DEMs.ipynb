{
 "cells": [
  {
   "cell_type": "code",
   "execution_count": null,
   "metadata": {},
   "outputs": [],
   "source": [
    "import numpy as np\n",
    "import xarray as xr\n",
    "import pyvista as pv\n",
    "import matplotlib.pyplot as plt\n",
    "\n",
    "import os\n",
    "\n",
    "PATH = '/Volumes/GoogleDrive/My Drive/Segyio and PyVista'\n",
    "\n",
    "pv.rcParams['use_panel'] = False"
   ]
  },
  {
   "cell_type": "code",
   "execution_count": null,
   "metadata": {},
   "outputs": [],
   "source": [
    "def read_tiff_surface(filename):\n",
    "    \"\"\"Read a geotiff and make a surface mesh with PyVista\n",
    "\n",
    "    Helpful: http://xarray.pydata.org/en/stable/auto_gallery/plot_rasterio.html\n",
    "    \"\"\"\n",
    "    # Read in the data\n",
    "    data = xr.open_rasterio(filename)\n",
    "    values = np.asarray(data)\n",
    "    nans = values == data.nodatavals\n",
    "    if np.any(nans):\n",
    "        # values = np.ma.masked_where(nans, values)\n",
    "        values[nans] = np.nan\n",
    "    # Make a mesh\n",
    "    xx, yy = np.meshgrid(data['x'], data['y'])\n",
    "    zz = values.reshape(xx.shape)\n",
    "    # zz = np.zeros_like(xx)\n",
    "    mesh = pv.StructuredGrid(xx, yy, zz)\n",
    "    mesh[os.path.basename(filename)] = values.ravel(order='F')\n",
    "    return mesh\n"
   ]
  },
  {
   "cell_type": "code",
   "execution_count": null,
   "metadata": {},
   "outputs": [],
   "source": [
    "filename = os.path.join(PATH, 'teapot_dem.tif')\n",
    "teapot_dem = read_tiff_surface(filename)\n",
    "teapot_dem"
   ]
  },
  {
   "cell_type": "code",
   "execution_count": null,
   "metadata": {},
   "outputs": [],
   "source": [
    "teapot_dem.plot()"
   ]
  },
  {
   "cell_type": "code",
   "execution_count": null,
   "metadata": {},
   "outputs": [],
   "source": [
    "def associate_tiff_texture(mesh, filename):\n",
    "    \"\"\"Read a tiff and associated it as a texture on the given mesh\n",
    "    This does everything in place on the mesh\"\"\"\n",
    "    data = xr.open_rasterio(filename)\n",
    "    values = np.asarray(data)\n",
    "    # Swap array order\n",
    "    values = values.swapaxes(0, -1).swapaxes(0,1)\n",
    "    if values.shape[-1] == 1:\n",
    "        # Convert Grayscale to RGB\n",
    "        values = np.stack((values.reshape(values.shape[0:2]),)*3, axis=-1)\n",
    "    print('Texture image shape: ', values.shape)\n",
    "    # Get spatial reference\n",
    "    xx, yy = np.meshgrid(data['x'], data['y'])\n",
    "    extent = np.min(xx), np.max(xx), np.min(yy), np.max(yy)\n",
    "    origin = (extent[0], extent[2], 0.0)  # BOTTOM LEFT CORNER\n",
    "    point_u = (extent[1], extent[2], 0.0) # BOTTOM RIGHT CORNER\n",
    "    point_v = (extent[0], extent[3], 0.0) # TOP LEFT CORNER\n",
    "    # Map the texuture\n",
    "    name = os.path.basename(filename)\n",
    "    teapot_dem.texture_map_to_plane(origin, point_u, point_v, inplace=True, name=name)\n",
    "    teapot_dem.textures[name] = pv.numpy_to_texture(values)\n",
    "    return None"
   ]
  },
  {
   "cell_type": "code",
   "execution_count": null,
   "metadata": {},
   "outputs": [],
   "source": [
    "filename = os.path.join(PATH, 'Topo_NPR3.tif')\n",
    "associate_tiff_texture(teapot_dem, filename)"
   ]
  },
  {
   "cell_type": "code",
   "execution_count": null,
   "metadata": {},
   "outputs": [],
   "source": [
    "filename = os.path.join(PATH, 'teapot_aerial_NAD27.tif')\n",
    "associate_tiff_texture(teapot_dem, filename)\n",
    "\n",
    "teapot_dem"
   ]
  },
  {
   "cell_type": "code",
   "execution_count": null,
   "metadata": {},
   "outputs": [],
   "source": [
    "# Warp by scalar filter majorly exaggerates the topo\n",
    "teapot_dem.warp_by_scalar(factor=5.).plot(texture='teapot_aerial_NAD27.tif', \n",
    "                                          notebook=False, )"
   ]
  },
  {
   "cell_type": "code",
   "execution_count": null,
   "metadata": {},
   "outputs": [],
   "source": []
  }
 ],
 "metadata": {
  "kernelspec": {
   "display_name": "Python [conda env:dev]",
   "language": "python",
   "name": "dev"
  },
  "language_info": {
   "codemirror_mode": {
    "name": "ipython",
    "version": 3
   },
   "file_extension": ".py",
   "mimetype": "text/x-python",
   "name": "python",
   "nbconvert_exporter": "python",
   "pygments_lexer": "ipython3",
   "version": "3.7.3"
  }
 },
 "nbformat": 4,
 "nbformat_minor": 2
}
